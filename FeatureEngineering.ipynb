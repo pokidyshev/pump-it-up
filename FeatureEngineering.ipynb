{
 "cells": [
  {
   "cell_type": "markdown",
   "metadata": {},
   "source": [
    "# Clean up existing features and engineer new ones"
   ]
  },
  {
   "cell_type": "code",
   "execution_count": 1,
   "metadata": {
    "collapsed": true
   },
   "outputs": [],
   "source": [
    "import dateutil\n",
    "import datetime\n",
    "\n",
    "import numpy as np\n",
    "import pandas as pd\n",
    "\n",
    "import seaborn as sns\n",
    "import matplotlib.pyplot as plt\n",
    "%matplotlib inline\n",
    "\n",
    "from sklearn.preprocessing import LabelEncoder\n",
    "\n",
    "pd.options.display.max_columns = 200"
   ]
  },
  {
   "cell_type": "code",
   "execution_count": 2,
   "metadata": {
    "collapsed": true
   },
   "outputs": [],
   "source": [
    "train = pd.read_csv('data/train.csv')\n",
    "test  = pd.read_csv('data/test.csv')"
   ]
  },
  {
   "cell_type": "markdown",
   "metadata": {},
   "source": [
    "## Exploring the data"
   ]
  },
  {
   "cell_type": "code",
   "execution_count": 3,
   "metadata": {},
   "outputs": [
    {
     "data": {
      "text/html": [
       "<div>\n",
       "<style>\n",
       "    .dataframe thead tr:only-child th {\n",
       "        text-align: right;\n",
       "    }\n",
       "\n",
       "    .dataframe thead th {\n",
       "        text-align: left;\n",
       "    }\n",
       "\n",
       "    .dataframe tbody tr th {\n",
       "        vertical-align: top;\n",
       "    }\n",
       "</style>\n",
       "<table border=\"1\" class=\"dataframe\">\n",
       "  <thead>\n",
       "    <tr style=\"text-align: right;\">\n",
       "      <th></th>\n",
       "      <th>train</th>\n",
       "      <th>test</th>\n",
       "    </tr>\n",
       "  </thead>\n",
       "  <tbody>\n",
       "    <tr>\n",
       "      <th>funder</th>\n",
       "      <td>3635</td>\n",
       "      <td>869</td>\n",
       "    </tr>\n",
       "    <tr>\n",
       "      <th>installer</th>\n",
       "      <td>3655</td>\n",
       "      <td>877</td>\n",
       "    </tr>\n",
       "    <tr>\n",
       "      <th>subvillage</th>\n",
       "      <td>371</td>\n",
       "      <td>99</td>\n",
       "    </tr>\n",
       "    <tr>\n",
       "      <th>public_meeting</th>\n",
       "      <td>3334</td>\n",
       "      <td>821</td>\n",
       "    </tr>\n",
       "    <tr>\n",
       "      <th>scheme_management</th>\n",
       "      <td>3877</td>\n",
       "      <td>969</td>\n",
       "    </tr>\n",
       "    <tr>\n",
       "      <th>scheme_name</th>\n",
       "      <td>28166</td>\n",
       "      <td>7092</td>\n",
       "    </tr>\n",
       "    <tr>\n",
       "      <th>permit</th>\n",
       "      <td>3056</td>\n",
       "      <td>737</td>\n",
       "    </tr>\n",
       "  </tbody>\n",
       "</table>\n",
       "</div>"
      ],
      "text/plain": [
       "                   train  test\n",
       "funder              3635   869\n",
       "installer           3655   877\n",
       "subvillage           371    99\n",
       "public_meeting      3334   821\n",
       "scheme_management   3877   969\n",
       "scheme_name        28166  7092\n",
       "permit              3056   737"
      ]
     },
     "metadata": {},
     "output_type": "display_data"
    }
   ],
   "source": [
    "train_nulls = train.isnull().sum()\n",
    "test_nulls = test.isnull().sum()\n",
    "\n",
    "nulls = pd.concat([train_nulls[train_nulls != 0], test_nulls[test_nulls != 0]], axis=1)\n",
    "nulls.columns = ['train', 'test']\n",
    "\n",
    "display(nulls)"
   ]
  },
  {
   "cell_type": "code",
   "execution_count": 4,
   "metadata": {
    "collapsed": true
   },
   "outputs": [],
   "source": [
    "df = pd.concat([train, test])"
   ]
  },
  {
   "cell_type": "code",
   "execution_count": 5,
   "metadata": {
    "collapsed": true
   },
   "outputs": [],
   "source": [
    "number_of_train_rows = train.shape[0]"
   ]
  },
  {
   "cell_type": "code",
   "execution_count": 6,
   "metadata": {},
   "outputs": [
    {
     "data": {
      "text/plain": [
       "(59400, 40)"
      ]
     },
     "metadata": {},
     "output_type": "display_data"
    },
    {
     "data": {
      "text/plain": [
       "(14850, 40)"
      ]
     },
     "metadata": {},
     "output_type": "display_data"
    },
    {
     "data": {
      "text/plain": [
       "(74250, 40)"
      ]
     },
     "metadata": {},
     "output_type": "display_data"
    },
    {
     "data": {
      "text/plain": [
       "['id',\n",
       " 'amount_tsh',\n",
       " 'date_recorded',\n",
       " 'funder',\n",
       " 'gps_height',\n",
       " 'installer',\n",
       " 'longitude',\n",
       " 'latitude',\n",
       " 'wpt_name',\n",
       " 'num_private',\n",
       " 'basin',\n",
       " 'subvillage',\n",
       " 'region',\n",
       " 'region_code',\n",
       " 'district_code',\n",
       " 'lga',\n",
       " 'ward',\n",
       " 'population',\n",
       " 'public_meeting',\n",
       " 'recorded_by',\n",
       " 'scheme_management',\n",
       " 'scheme_name',\n",
       " 'permit',\n",
       " 'construction_year',\n",
       " 'extraction_type',\n",
       " 'extraction_type_group',\n",
       " 'extraction_type_class',\n",
       " 'management',\n",
       " 'management_group',\n",
       " 'payment',\n",
       " 'payment_type',\n",
       " 'water_quality',\n",
       " 'quality_group',\n",
       " 'quantity',\n",
       " 'quantity_group',\n",
       " 'source',\n",
       " 'source_type',\n",
       " 'source_class',\n",
       " 'waterpoint_type',\n",
       " 'waterpoint_type_group']"
      ]
     },
     "metadata": {},
     "output_type": "display_data"
    }
   ],
   "source": [
    "display(\n",
    "    train.shape,\n",
    "    test.shape,\n",
    "    df.shape,\n",
    "    df.columns.tolist(),\n",
    ")"
   ]
  },
  {
   "cell_type": "code",
   "execution_count": 7,
   "metadata": {},
   "outputs": [
    {
     "name": "stdout",
     "output_type": "stream",
     "text": [
      "Number of factor levels\n",
      "\n",
      "45684 - wpt_name\n",
      "21425 - subvillage\n",
      "  125 - lga\n",
      " 2098 - ward\n",
      "   20 - district_code\n",
      "    1 - recorded_by\n",
      " 2868 - scheme_name\n",
      " 2140 - funder\n",
      " 2410 - installer\n"
     ]
    }
   ],
   "source": [
    "suspect_features = ['wpt_name', 'subvillage', 'lga', 'ward', 'district_code',\n",
    "                    'recorded_by', 'scheme_name', 'funder', 'installer'\n",
    "                   ]\n",
    "\n",
    "print('Number of factor levels\\n')\n",
    "for f in suspect_features:\n",
    "    print('{:5d} - {}'.format(df[f].value_counts().size, f))"
   ]
  },
  {
   "cell_type": "code",
   "execution_count": 8,
   "metadata": {
    "collapsed": true
   },
   "outputs": [],
   "source": [
    "features_to_drop = set([\n",
    "    'wpt_name',    # too many factor levels\n",
    "    'subvillage',  # too many factor levels and we have lat/long for the location\n",
    "    'ward',        # too many factor levels and we have lat/long for the location\n",
    "    'recorded_by', # constant\n",
    "    'scheme_name', # too many factor levels and NaNs\n",
    "    \n",
    "    'num_private', # irrelevant info\n",
    "    'region_code', # duplicate info (region)\n",
    "])"
   ]
  },
  {
   "cell_type": "markdown",
   "metadata": {},
   "source": [
    "## Reduce factor levels"
   ]
  },
  {
   "cell_type": "code",
   "execution_count": 9,
   "metadata": {
    "collapsed": true
   },
   "outputs": [],
   "source": [
    "def reduce_factor_levels(df, column_name, min_count=700, other_name='Other'):\n",
    "    counts = df[column_name].value_counts()\n",
    "    top = counts[counts >= min_count].index\n",
    "    df.loc[~df[column_name].isin(top), column_name] = other_name"
   ]
  },
  {
   "cell_type": "code",
   "execution_count": 10,
   "metadata": {
    "collapsed": true,
    "scrolled": true
   },
   "outputs": [],
   "source": [
    "reduce_factor_levels(df, 'funder')\n",
    "reduce_factor_levels(df, 'installer')"
   ]
  },
  {
   "cell_type": "markdown",
   "metadata": {},
   "source": [
    "## Extract new features from dates"
   ]
  },
  {
   "cell_type": "code",
   "execution_count": 11,
   "metadata": {
    "collapsed": true
   },
   "outputs": [],
   "source": [
    "features_to_drop.add('date_recorded')"
   ]
  },
  {
   "cell_type": "code",
   "execution_count": 12,
   "metadata": {
    "collapsed": true
   },
   "outputs": [],
   "source": [
    "years       = df['date_recorded'].apply(lambda x: dateutil.parser.parse(x).year)\n",
    "df['month'] = df['date_recorded'].apply(lambda x: dateutil.parser.parse(x).month)"
   ]
  },
  {
   "cell_type": "code",
   "execution_count": 13,
   "metadata": {
    "collapsed": true
   },
   "outputs": [],
   "source": [
    "def month_to_rain_season(x):\n",
    "    if x <= 2:\n",
    "        return 'dry short'\n",
    "    elif x <= 5:\n",
    "        return 'wet long'\n",
    "    elif x <= 9:\n",
    "        return 'dry long'\n",
    "    return 'wet short'"
   ]
  },
  {
   "cell_type": "code",
   "execution_count": 14,
   "metadata": {
    "collapsed": true
   },
   "outputs": [],
   "source": [
    "df['rain_season'] = df['month'].apply(month_to_rain_season)"
   ]
  },
  {
   "cell_type": "code",
   "execution_count": 15,
   "metadata": {},
   "outputs": [
    {
     "data": {
      "text/plain": [
       "(2000.0, 1960)"
      ]
     },
     "execution_count": 15,
     "metadata": {},
     "output_type": "execute_result"
    }
   ],
   "source": [
    "is_zero_year = df['construction_year'] == 0\n",
    "known_years = df[~is_zero_year]['construction_year']\n",
    "med_year = known_years.median()\n",
    "min_year = known_years.min()\n",
    "med_year, min_year"
   ]
  },
  {
   "cell_type": "code",
   "execution_count": 16,
   "metadata": {
    "collapsed": true
   },
   "outputs": [],
   "source": [
    "df.loc[is_zero_year, 'construction_year'] = med_year\n",
    "df['construction_year'] = (df['construction_year'] - min_year).astype(int)"
   ]
  },
  {
   "cell_type": "code",
   "execution_count": 17,
   "metadata": {
    "collapsed": true,
    "scrolled": true
   },
   "outputs": [],
   "source": [
    "df['estimated_age'] = years - df['construction_year']\n",
    "df.loc[df.estimated_age < 0, 'estimated_age'] = 0"
   ]
  },
  {
   "cell_type": "code",
   "execution_count": 18,
   "metadata": {
    "collapsed": true
   },
   "outputs": [],
   "source": [
    "the_beginning = dateutil.parser.parse('1960-01-01')\n",
    "df['days_since_the_beginning'] =\\\n",
    "    df['date_recorded'].apply(lambda x: (dateutil.parser.parse(x) - the_beginning).days)"
   ]
  },
  {
   "cell_type": "code",
   "execution_count": 19,
   "metadata": {
    "collapsed": true
   },
   "outputs": [],
   "source": [
    "df['construction_period'] = (df['construction_year'] / 5).astype(int) - 196*2"
   ]
  },
  {
   "cell_type": "markdown",
   "metadata": {},
   "source": [
    "## Clean up categorical features"
   ]
  },
  {
   "cell_type": "code",
   "execution_count": 20,
   "metadata": {
    "collapsed": true
   },
   "outputs": [],
   "source": [
    "def clean_values(df, col, values_dict):\n",
    "    for k, v in values_dict.items():\n",
    "        df.loc[df[col] == k, col] = v"
   ]
  },
  {
   "cell_type": "markdown",
   "metadata": {},
   "source": [
    "### Extraction type"
   ]
  },
  {
   "cell_type": "code",
   "execution_count": 21,
   "metadata": {
    "scrolled": true
   },
   "outputs": [
    {
     "data": {
      "text/plain": [
       "extraction_type_class  extraction_type_group  extraction_type          \n",
       "gravity                gravity                gravity                      33263\n",
       "handpump               afridev                afridev                       2208\n",
       "                       india mark ii          india mark ii                 3029\n",
       "                       india mark iii         india mark iii                 135\n",
       "                       nira/tanira            nira/tanira                  10205\n",
       "                       other handpump         other - swn 81                 284\n",
       "                                              other - play pump              101\n",
       "                                              walimi                          60\n",
       "                                              other - mkulima/shinyanga        2\n",
       "                       swn 80                 swn 80                        4588\n",
       "motorpump              mono                   mono                          3628\n",
       "                       other motorpump        cemo                           108\n",
       "                                              climax                          41\n",
       "other                  other                  other                         8102\n",
       "rope pump              rope pump              other - rope pump              572\n",
       "submersible            submersible            submersible                   5982\n",
       "                                              ksb                           1790\n",
       "wind-powered           wind-powered           windmill                       152\n",
       "Name: extraction_type, dtype: int64"
      ]
     },
     "execution_count": 21,
     "metadata": {},
     "output_type": "execute_result"
    }
   ],
   "source": [
    "df.groupby(['extraction_type_class','extraction_type_group'])['extraction_type'].value_counts()"
   ]
  },
  {
   "cell_type": "code",
   "execution_count": 22,
   "metadata": {
    "collapsed": true
   },
   "outputs": [],
   "source": [
    "clean_values(df, 'extraction_type',\n",
    "    {\n",
    "        'india mark ii'             : 'india',\n",
    "        'india mark iii'            : 'india',\n",
    "        'other - swn 81'            : 'swn',\n",
    "        'swn 80'                    : 'swn',\n",
    "        'other - play pump'         : 'other handpump',\n",
    "        'walimi'                    : 'other handpump',\n",
    "        'other - mkulima/shinyanga' : 'other handpump',\n",
    "        'cemo'                      : 'other motorpump',\n",
    "        'climax'                    : 'other motorpump',\n",
    "    }\n",
    ")"
   ]
  },
  {
   "cell_type": "code",
   "execution_count": 23,
   "metadata": {
    "collapsed": true
   },
   "outputs": [],
   "source": [
    "features_to_drop.add('extraction_type_group')"
   ]
  },
  {
   "cell_type": "code",
   "execution_count": 24,
   "metadata": {},
   "outputs": [
    {
     "data": {
      "text/plain": [
       "extraction_type_class  extraction_type  \n",
       "gravity                gravity              33263\n",
       "handpump               nira/tanira          10205\n",
       "                       swn                   4872\n",
       "                       india                 3164\n",
       "                       afridev               2208\n",
       "                       other handpump         163\n",
       "motorpump              mono                  3628\n",
       "                       other motorpump        149\n",
       "other                  other                 8102\n",
       "rope pump              other - rope pump      572\n",
       "submersible            submersible           5982\n",
       "                       ksb                   1790\n",
       "wind-powered           windmill               152\n",
       "Name: extraction_type, dtype: int64"
      ]
     },
     "execution_count": 24,
     "metadata": {},
     "output_type": "execute_result"
    }
   ],
   "source": [
    "df.groupby(['extraction_type_class'])['extraction_type'].value_counts()"
   ]
  },
  {
   "cell_type": "markdown",
   "metadata": {},
   "source": [
    "### Management"
   ]
  },
  {
   "cell_type": "code",
   "execution_count": 25,
   "metadata": {},
   "outputs": [
    {
     "data": {
      "text/plain": [
       "management_group  management      \n",
       "commercial        private operator     2504\n",
       "                  water authority      1123\n",
       "                  company               859\n",
       "                  trust                 105\n",
       "other             other                1083\n",
       "                  other - school        126\n",
       "parastatal        parastatal           2229\n",
       "unknown           unknown               683\n",
       "user-group        vwc                 50624\n",
       "                  wug                  8108\n",
       "                  water board          3688\n",
       "                  wua                  3118\n",
       "Name: management, dtype: int64"
      ]
     },
     "execution_count": 25,
     "metadata": {},
     "output_type": "execute_result"
    }
   ],
   "source": [
    "df.groupby(['management_group'])['management'].value_counts()"
   ]
  },
  {
   "cell_type": "code",
   "execution_count": 26,
   "metadata": {
    "collapsed": true
   },
   "outputs": [],
   "source": [
    "df['scheme_management'].fillna('Unknown', inplace=True)"
   ]
  },
  {
   "cell_type": "code",
   "execution_count": 27,
   "metadata": {},
   "outputs": [
    {
     "data": {
      "text/plain": [
       "VWC                 45917\n",
       "WUG                  6496\n",
       "Unknown              4846\n",
       "Water authority      3975\n",
       "WUA                  3551\n",
       "Water Board          3462\n",
       "Parastatal           2124\n",
       "Company              1341\n",
       "Private operator     1326\n",
       "Other                 996\n",
       "SWC                   123\n",
       "Trust                  92\n",
       "None                    1\n",
       "Name: scheme_management, dtype: int64"
      ]
     },
     "execution_count": 27,
     "metadata": {},
     "output_type": "execute_result"
    }
   ],
   "source": [
    "df['scheme_management'].value_counts()"
   ]
  },
  {
   "cell_type": "code",
   "execution_count": 28,
   "metadata": {
    "collapsed": true
   },
   "outputs": [],
   "source": [
    "df.loc[df['scheme_management'] == 'None', 'scheme_management'] = 'Unknown'"
   ]
  },
  {
   "cell_type": "markdown",
   "metadata": {},
   "source": [
    "### Quality"
   ]
  },
  {
   "cell_type": "code",
   "execution_count": 29,
   "metadata": {},
   "outputs": [
    {
     "data": {
      "text/plain": [
       "quality_group  water_quality     \n",
       "colored        coloured                623\n",
       "fluoride       fluoride                244\n",
       "               fluoride abandoned       23\n",
       "good           soft                  63505\n",
       "milky          milky                  1005\n",
       "salty          salty                  6082\n",
       "               salty abandoned         423\n",
       "unknown        unknown                2345\n",
       "Name: water_quality, dtype: int64"
      ]
     },
     "execution_count": 29,
     "metadata": {},
     "output_type": "execute_result"
    }
   ],
   "source": [
    "df.groupby(['quality_group'])['water_quality'].value_counts()"
   ]
  },
  {
   "cell_type": "code",
   "execution_count": 30,
   "metadata": {
    "collapsed": true
   },
   "outputs": [],
   "source": [
    "features_to_drop.add('quality_group')"
   ]
  },
  {
   "cell_type": "markdown",
   "metadata": {},
   "source": [
    "### Source"
   ]
  },
  {
   "cell_type": "code",
   "execution_count": 31,
   "metadata": {},
   "outputs": [
    {
     "data": {
      "text/plain": [
       "source_class  source_type           source              \n",
       "groundwater   borehole              machine dbh             13822\n",
       "                                    hand dtw                 1108\n",
       "              shallow well          shallow well            21140\n",
       "              spring                spring                  21216\n",
       "surface       dam                   dam                       840\n",
       "              rainwater harvesting  rainwater harvesting     2863\n",
       "              river/lake            river                   11964\n",
       "                                    lake                      950\n",
       "unknown       other                 other                     261\n",
       "                                    unknown                    86\n",
       "Name: source, dtype: int64"
      ]
     },
     "execution_count": 31,
     "metadata": {},
     "output_type": "execute_result"
    }
   ],
   "source": [
    "df.groupby(['source_class', 'source_type'])['source'].value_counts()"
   ]
  },
  {
   "cell_type": "code",
   "execution_count": 32,
   "metadata": {
    "collapsed": true
   },
   "outputs": [],
   "source": [
    "df.loc[df['source'] == 'other', 'source'] = 'unknown'"
   ]
  },
  {
   "cell_type": "code",
   "execution_count": 33,
   "metadata": {
    "collapsed": true
   },
   "outputs": [],
   "source": [
    "features_to_drop.add('source_type')"
   ]
  },
  {
   "cell_type": "markdown",
   "metadata": {},
   "source": [
    "### Waterpoint"
   ]
  },
  {
   "cell_type": "code",
   "execution_count": 34,
   "metadata": {},
   "outputs": [
    {
     "data": {
      "text/plain": [
       "waterpoint_type_group  waterpoint_type            \n",
       "cattle trough          cattle trough                    150\n",
       "communal standpipe     communal standpipe             35628\n",
       "                       communal standpipe multiple     7611\n",
       "dam                    dam                                8\n",
       "hand pump              hand pump                      21884\n",
       "improved spring        improved spring                  959\n",
       "other                  other                           8010\n",
       "Name: waterpoint_type, dtype: int64"
      ]
     },
     "execution_count": 34,
     "metadata": {},
     "output_type": "execute_result"
    }
   ],
   "source": [
    "df.groupby(['waterpoint_type_group'])['waterpoint_type'].value_counts()"
   ]
  },
  {
   "cell_type": "code",
   "execution_count": 35,
   "metadata": {
    "collapsed": true
   },
   "outputs": [],
   "source": [
    "features_to_drop.add('waterpoint_type_group')"
   ]
  },
  {
   "cell_type": "markdown",
   "metadata": {},
   "source": [
    "### Payment"
   ]
  },
  {
   "cell_type": "code",
   "execution_count": 36,
   "metadata": {},
   "outputs": [
    {
     "data": {
      "text/plain": [
       "payment_type  payment              \n",
       "annually      pay annually              4570\n",
       "monthly       pay monthly              10397\n",
       "never pay     never pay                31712\n",
       "on failure    pay when scheme fails     4842\n",
       "other         other                     1314\n",
       "per bucket    pay per bucket           11266\n",
       "unknown       unknown                  10149\n",
       "Name: payment, dtype: int64"
      ]
     },
     "execution_count": 36,
     "metadata": {},
     "output_type": "execute_result"
    }
   ],
   "source": [
    "df.groupby(['payment_type'])['payment'].value_counts()"
   ]
  },
  {
   "cell_type": "code",
   "execution_count": 37,
   "metadata": {
    "collapsed": true
   },
   "outputs": [],
   "source": [
    "features_to_drop.add('payment')"
   ]
  },
  {
   "cell_type": "markdown",
   "metadata": {},
   "source": [
    "### Quantity"
   ]
  },
  {
   "cell_type": "code",
   "execution_count": 38,
   "metadata": {},
   "outputs": [
    {
     "data": {
      "text/plain": [
       "quantity_group  quantity    \n",
       "dry             dry              7782\n",
       "enough          enough          41522\n",
       "insufficient    insufficient    18896\n",
       "seasonal        seasonal         5075\n",
       "unknown         unknown           975\n",
       "Name: quantity, dtype: int64"
      ]
     },
     "execution_count": 38,
     "metadata": {},
     "output_type": "execute_result"
    }
   ],
   "source": [
    "df.groupby(['quantity_group'])['quantity'].value_counts()"
   ]
  },
  {
   "cell_type": "code",
   "execution_count": 39,
   "metadata": {
    "collapsed": true
   },
   "outputs": [],
   "source": [
    "features_to_drop.add('quantity_group')"
   ]
  },
  {
   "cell_type": "code",
   "execution_count": 40,
   "metadata": {},
   "outputs": [
    {
     "data": {
      "text/plain": [
       "quality_group  water_quality     \n",
       "colored        coloured                623\n",
       "fluoride       fluoride                244\n",
       "               fluoride abandoned       23\n",
       "good           soft                  63505\n",
       "milky          milky                  1005\n",
       "salty          salty                  6082\n",
       "               salty abandoned         423\n",
       "unknown        unknown                2345\n",
       "Name: water_quality, dtype: int64"
      ]
     },
     "execution_count": 40,
     "metadata": {},
     "output_type": "execute_result"
    }
   ],
   "source": [
    "df.groupby(['quality_group'])['water_quality'].value_counts()"
   ]
  },
  {
   "cell_type": "code",
   "execution_count": 41,
   "metadata": {
    "collapsed": true
   },
   "outputs": [],
   "source": [
    "features_to_drop.add('quality_group')"
   ]
  },
  {
   "cell_type": "markdown",
   "metadata": {},
   "source": [
    "### Location info"
   ]
  },
  {
   "cell_type": "code",
   "execution_count": 42,
   "metadata": {},
   "outputs": [
    {
     "data": {
      "text/plain": [
       "region         region_code\n",
       "Arusha         2              3709\n",
       "               24              402\n",
       "Dar es Salaam  7              1020\n",
       "Dodoma         1              2779\n",
       "Iringa         11             6599\n",
       "Kagera         18             4174\n",
       "Kigoma         16             3533\n",
       "Kilimanjaro    3              5494\n",
       "Lindi          80             1536\n",
       "               8               375\n",
       "               18                9\n",
       "Manyara        21             1972\n",
       "Mara           20             2451\n",
       "Mbeya          12             5758\n",
       "Morogoro       5              5038\n",
       "Mtwara         90             1133\n",
       "               99              512\n",
       "               9               499\n",
       "Mwanza         19             3824\n",
       "               17               72\n",
       "               12                1\n",
       "Pwani          6              2032\n",
       "               60             1298\n",
       "               40                1\n",
       "Rukwa          15             2242\n",
       "Ruvuma         10             3306\n",
       "Shinyanga      17             6262\n",
       "               14               22\n",
       "               11                9\n",
       "Singida        13             2536\n",
       "Tabora         14             2466\n",
       "Tanga          4              3145\n",
       "               5                41\n",
       "Name: region_code, dtype: int64"
      ]
     },
     "execution_count": 42,
     "metadata": {},
     "output_type": "execute_result"
    }
   ],
   "source": [
    "df.groupby(['region'])['region_code'].value_counts()"
   ]
  },
  {
   "cell_type": "code",
   "execution_count": 43,
   "metadata": {
    "collapsed": true
   },
   "outputs": [],
   "source": [
    "enc = LabelEncoder()\n",
    "df['region_code'] = enc.fit_transform(df['region']) + 1"
   ]
  },
  {
   "cell_type": "code",
   "execution_count": 44,
   "metadata": {
    "collapsed": true
   },
   "outputs": [],
   "source": [
    "for i in range(1, 22):\n",
    "    enc = LabelEncoder()\n",
    "    ith_reg = df['region_code'] == i\n",
    "    df.loc[ith_reg, 'district_code'] = enc.fit_transform(df[ith_reg]['district_code']) + 1"
   ]
  },
  {
   "cell_type": "code",
   "execution_count": 45,
   "metadata": {
    "collapsed": true
   },
   "outputs": [],
   "source": [
    "df['district_code'] = df['region_code'] * 100 + df['district_code']\n",
    "df['district_code'] = df['district_code'].astype(str)"
   ]
  },
  {
   "cell_type": "code",
   "execution_count": 46,
   "metadata": {
    "collapsed": true
   },
   "outputs": [],
   "source": [
    "def impute_mean_geo(df, col):\n",
    "    has_value = df[col] != 0\n",
    "    \n",
    "    mean_dis = df[has_value].groupby(['district_code'])[col].mean()\n",
    "    reg14_long = df[(df['region_code'] == 14) & (df['longitude'] != 0)]['longitude'].mean()\n",
    "    \n",
    "    df.loc[~has_value, col] = df[~has_value]['district_code']\\\n",
    "        .apply(lambda x: mean_dis[x] if x in mean_dis.index else reg14_long)"
   ]
  },
  {
   "cell_type": "code",
   "execution_count": 47,
   "metadata": {
    "collapsed": true
   },
   "outputs": [],
   "source": [
    "impute_mean_geo(df, 'latitude')\n",
    "impute_mean_geo(df, 'longitude')"
   ]
  },
  {
   "cell_type": "code",
   "execution_count": 48,
   "metadata": {
    "collapsed": true
   },
   "outputs": [],
   "source": [
    "def extract_lga(x):\n",
    "    if 'rural' in x:\n",
    "        return 'rural'\n",
    "    elif 'urban' in x:\n",
    "        return 'urban'\n",
    "    return 'other'"
   ]
  },
  {
   "cell_type": "code",
   "execution_count": 49,
   "metadata": {
    "collapsed": true
   },
   "outputs": [],
   "source": [
    "df['lga'] = df['lga'].apply(extract_lga)"
   ]
  },
  {
   "cell_type": "markdown",
   "metadata": {},
   "source": [
    "## Remaining features"
   ]
  },
  {
   "cell_type": "code",
   "execution_count": 50,
   "metadata": {
    "collapsed": true
   },
   "outputs": [],
   "source": [
    "features_to_drop.add('amount_tsh')"
   ]
  },
  {
   "cell_type": "code",
   "execution_count": 51,
   "metadata": {
    "collapsed": true
   },
   "outputs": [],
   "source": [
    "df.fillna('unknown', inplace=True)\n",
    "objects = df.select_dtypes(include=['O']).columns.values\n",
    "df[objects] = df[objects].apply(lambda x: x.astype(str).str.lower())"
   ]
  },
  {
   "cell_type": "markdown",
   "metadata": {},
   "source": [
    "## Drop useless"
   ]
  },
  {
   "cell_type": "code",
   "execution_count": 52,
   "metadata": {
    "collapsed": true
   },
   "outputs": [],
   "source": [
    "df.drop(features_to_drop, axis=1, inplace=True)"
   ]
  },
  {
   "cell_type": "markdown",
   "metadata": {},
   "source": [
    "## Write to csv"
   ]
  },
  {
   "cell_type": "code",
   "execution_count": 53,
   "metadata": {
    "collapsed": true
   },
   "outputs": [],
   "source": [
    "df[0:number_of_train_rows].to_csv('data/cleaned_train.csv')\n",
    "df[number_of_train_rows:].to_csv('data/cleaned_test.csv')"
   ]
  },
  {
   "cell_type": "code",
   "execution_count": 54,
   "metadata": {},
   "outputs": [
    {
     "data": {
      "text/plain": [
       "['id',\n",
       " 'funder',\n",
       " 'gps_height',\n",
       " 'installer',\n",
       " 'longitude',\n",
       " 'latitude',\n",
       " 'basin',\n",
       " 'region',\n",
       " 'district_code',\n",
       " 'lga',\n",
       " 'population',\n",
       " 'public_meeting',\n",
       " 'scheme_management',\n",
       " 'permit',\n",
       " 'construction_year',\n",
       " 'extraction_type',\n",
       " 'extraction_type_class',\n",
       " 'management',\n",
       " 'management_group',\n",
       " 'payment_type',\n",
       " 'water_quality',\n",
       " 'quantity',\n",
       " 'source',\n",
       " 'source_class',\n",
       " 'waterpoint_type',\n",
       " 'month',\n",
       " 'rain_season',\n",
       " 'estimated_age',\n",
       " 'days_since_the_beginning',\n",
       " 'construction_period']"
      ]
     },
     "execution_count": 54,
     "metadata": {},
     "output_type": "execute_result"
    }
   ],
   "source": [
    "df.columns.tolist()"
   ]
  },
  {
   "cell_type": "code",
   "execution_count": null,
   "metadata": {
    "collapsed": true
   },
   "outputs": [],
   "source": []
  }
 ],
 "metadata": {
  "kernelspec": {
   "display_name": "Python 3",
   "language": "python",
   "name": "python3"
  },
  "language_info": {
   "codemirror_mode": {
    "name": "ipython",
    "version": 3
   },
   "file_extension": ".py",
   "mimetype": "text/x-python",
   "name": "python",
   "nbconvert_exporter": "python",
   "pygments_lexer": "ipython3",
   "version": "3.6.2"
  },
  "varInspector": {
   "cols": {
    "lenName": 16,
    "lenType": 16,
    "lenVar": 40
   },
   "kernels_config": {
    "python": {
     "delete_cmd_postfix": "",
     "delete_cmd_prefix": "del ",
     "library": "var_list.py",
     "varRefreshCmd": "print(var_dic_list())"
    },
    "r": {
     "delete_cmd_postfix": ") ",
     "delete_cmd_prefix": "rm(",
     "library": "var_list.r",
     "varRefreshCmd": "cat(var_dic_list()) "
    }
   },
   "types_to_exclude": [
    "module",
    "function",
    "builtin_function_or_method",
    "instance",
    "_Feature"
   ],
   "window_display": false
  }
 },
 "nbformat": 4,
 "nbformat_minor": 2
}
