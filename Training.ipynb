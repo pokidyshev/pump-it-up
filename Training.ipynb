{
 "cells": [
  {
   "cell_type": "markdown",
   "metadata": {},
   "source": [
    "# Training"
   ]
  },
  {
   "cell_type": "code",
   "execution_count": 1,
   "metadata": {
    "collapsed": true
   },
   "outputs": [],
   "source": [
    "%load_ext ipyslack\n",
    "%slack_setup /home/sandpiturtle/slack_notif_setup.txt"
   ]
  },
  {
   "cell_type": "code",
   "execution_count": 4,
   "metadata": {
    "collapsed": true
   },
   "outputs": [],
   "source": [
    "import numpy as np\n",
    "import pandas as pd\n",
    "import hyperopt\n",
    "\n",
    "import seaborn as sns\n",
    "import matplotlib.pyplot as plt\n",
    "%matplotlib inline\n",
    "\n",
    "from scipy import stats\n",
    "from tqdm import tqdm_notebook, tnrange\n",
    "\n",
    "from sklearn.preprocessing import LabelEncoder\n",
    "from sklearn.model_selection import StratifiedShuffleSplit, GridSearchCV\n",
    "from sklearn.ensemble import RandomForestClassifier\n",
    "\n",
    "from catboost import Pool, CatBoostClassifier, cv, CatboostIpythonWidget\n",
    "\n",
    "from itertools import combinations"
   ]
  },
  {
   "cell_type": "code",
   "execution_count": 5,
   "metadata": {
    "collapsed": true
   },
   "outputs": [],
   "source": [
    "X      = pd.read_csv('cleaned/train.csv')\n",
    "y      = pd.read_csv('data/labels.csv')\n",
    "X_test = pd.read_csv('cleaned/test.csv')"
   ]
  },
  {
   "cell_type": "code",
   "execution_count": 6,
   "metadata": {
    "collapsed": true
   },
   "outputs": [],
   "source": [
    "test_ids = np.array(X_test.id)"
   ]
  },
  {
   "cell_type": "code",
   "execution_count": 7,
   "metadata": {
    "collapsed": true
   },
   "outputs": [],
   "source": [
    "drop = [\n",
    "    'id',\n",
    "    'amount_tsh', 'gps_height', 'permit',\n",
    "    'region', 'lga', 'latitude', 'longitude',\n",
    "    'reduced_funder', 'reduced_installer',\n",
    "    'month', 'rain_season', 'construction_period',\n",
    "]\n",
    "\n",
    "X.drop(drop, axis=1, inplace=True)\n",
    "X_test.drop(drop, axis=1, inplace=True)"
   ]
  },
  {
   "cell_type": "code",
   "execution_count": 8,
   "metadata": {
    "collapsed": true
   },
   "outputs": [],
   "source": [
    "y_encoder = LabelEncoder()\n",
    "y = y_encoder.fit_transform(y.status_group)"
   ]
  },
  {
   "cell_type": "code",
   "execution_count": 9,
   "metadata": {
    "scrolled": false
   },
   "outputs": [
    {
     "data": {
      "text/plain": [
       "['funder',\n",
       " 'installer',\n",
       " 'basin',\n",
       " 'region_code',\n",
       " 'district_code',\n",
       " 'ward',\n",
       " 'population',\n",
       " 'public_meeting',\n",
       " 'scheme_management',\n",
       " 'construction_year',\n",
       " 'extraction_type',\n",
       " 'extraction_type_class',\n",
       " 'management',\n",
       " 'management_group',\n",
       " 'payment_type',\n",
       " 'water_quality',\n",
       " 'quantity',\n",
       " 'source',\n",
       " 'source_class',\n",
       " 'waterpoint_type',\n",
       " 'estimated_age']"
      ]
     },
     "execution_count": 9,
     "metadata": {},
     "output_type": "execute_result"
    }
   ],
   "source": [
    "features = X.columns\n",
    "features.tolist()"
   ]
  },
  {
   "cell_type": "code",
   "execution_count": 10,
   "metadata": {
    "collapsed": true
   },
   "outputs": [],
   "source": [
    "ctrs = [ \n",
    "    'region', 'lga', 'reduced_funder','reduced_installer','month','rain_season','construction_period',\n",
    "    'construction_year','funder','installer','basin','region_code','district_code','ward','public_meeting',\n",
    "    'scheme_management','permit','extraction_type','extraction_type_class','management','management_group',\n",
    "    'payment_type','water_quality','quantity','source','source_class','waterpoint_type',\n",
    "]\n",
    "\n",
    "ctrs_indexes = []\n",
    "for i, v in enumerate(features):\n",
    "    if v in ctrs:\n",
    "        ctrs_indexes.append(i)"
   ]
  },
  {
   "cell_type": "code",
   "execution_count": 11,
   "metadata": {
    "collapsed": true
   },
   "outputs": [],
   "source": [
    "seed = 1234"
   ]
  },
  {
   "cell_type": "code",
   "execution_count": null,
   "metadata": {
    "collapsed": true
   },
   "outputs": [],
   "source": [
    "X, y = np.array(X), np.array(y)\n",
    "\n",
    "sss = StratifiedShuffleSplit(n_splits=1, test_size=0.2, random_state=seed)\n",
    "\n",
    "for train_ind, valid_ind in sss.split(X, y):\n",
    "    X_train, y_train           = X[train_ind], y[train_ind]\n",
    "    X_validation, y_validation = X[valid_ind], y[valid_ind]"
   ]
  },
  {
   "cell_type": "markdown",
   "metadata": {},
   "source": [
    "## Naive CatBoost"
   ]
  },
  {
   "cell_type": "code",
   "execution_count": null,
   "metadata": {
    "collapsed": true
   },
   "outputs": [],
   "source": [
    "cbc_valid = CatBoostClassifier(\n",
    "    learning_rate=0.1,\n",
    "    loss_function='MultiClass', \n",
    "    calc_feature_importance=True,\n",
    "    eval_metric='Accuracy',\n",
    "    auto_stop_pval=0.01,\n",
    "    use_best_model=True,\n",
    "    train_dir='train/cbc_valid',\n",
    "    random_seed=seed\n",
    ").fit(\n",
    "    X_train, \n",
    "    y_train, \n",
    "    cat_features=ctrs_indexes, \n",
    "    eval_set=(X_validation, y_validation)\n",
    ")"
   ]
  },
  {
   "cell_type": "code",
   "execution_count": null,
   "metadata": {
    "collapsed": true,
    "scrolled": true
   },
   "outputs": [],
   "source": [
    "%%slack_notify {out}\n",
    "print('Train: {:.4f}'.format(\n",
    "    cbc_valid.score(X_train, y_train)\n",
    "))\n",
    "print('Valid: {:.4f}'.format(\n",
    "    cbc_valid.score(X_validation, y_validation)\n",
    "))"
   ]
  },
  {
   "cell_type": "markdown",
   "metadata": {},
   "source": [
    "## Calculate feature importances"
   ]
  },
  {
   "cell_type": "code",
   "execution_count": null,
   "metadata": {
    "collapsed": true
   },
   "outputs": [],
   "source": [
    "importances = cbc.feature_importance_\n",
    "indices = np.argsort(importances)[::-1]\n",
    "\n",
    "print(\"Feature ranking:\")\n",
    "for f in range(X.shape[1]):\n",
    "    print(\"%d. %s (%.4f)\" % (f + 1, features[indices[f]], importances[indices[f]]))"
   ]
  },
  {
   "cell_type": "code",
   "execution_count": null,
   "metadata": {
    "collapsed": true
   },
   "outputs": [],
   "source": [
    "imp_map = np.vectorize(lambda x: importances[x])\n",
    "plt.rcParams.update({'font.size': 14})\n",
    "fig, ax = plt.subplots(figsize=(15, 8))\n",
    "sns.barplot(x=imp_map(indices), y=features[indices], color='r', ax=ax);"
   ]
  },
  {
   "cell_type": "markdown",
   "metadata": {
    "collapsed": true
   },
   "source": [
    "## Make submission"
   ]
  },
  {
   "cell_type": "code",
   "execution_count": null,
   "metadata": {
    "collapsed": true
   },
   "outputs": [],
   "source": [
    "cbc = CatBoostClassifier(\n",
    "    learning_rate=0.1,\n",
    "    loss_function='MultiClass', \n",
    "    eval_metric='Accuracy',\n",
    "    train_dir='train/cbc_X'\n",
    ").fit(X, y, cat_features=ctrs_indexes)"
   ]
  },
  {
   "cell_type": "code",
   "execution_count": null,
   "metadata": {
    "collapsed": true
   },
   "outputs": [],
   "source": [
    "%%slack_notify {out}\n",
    "print('Full: {:.4f}'.format(\n",
    "    cbc.score(X, y)\n",
    "))"
   ]
  },
  {
   "cell_type": "code",
   "execution_count": null,
   "metadata": {
    "collapsed": true
   },
   "outputs": [],
   "source": [
    "def submit(pred, name='ans'):\n",
    "    y_pred = y_encoder.inverse_transform(pred.astype(int))\n",
    "    ans = pd.DataFrame({'id': test_ids, 'status_group': y_pred.ravel()})\n",
    "    ans.to_csv('submissions/' + name + '.csv', index=False)"
   ]
  },
  {
   "cell_type": "code",
   "execution_count": null,
   "metadata": {
    "collapsed": true
   },
   "outputs": [],
   "source": [
    "submit(cbc.predict(X_test))"
   ]
  },
  {
   "cell_type": "markdown",
   "metadata": {},
   "source": [
    "Max score: 0.8210"
   ]
  },
  {
   "cell_type": "markdown",
   "metadata": {
    "collapsed": true
   },
   "source": [
    "## Model tuning"
   ]
  },
  {
   "cell_type": "markdown",
   "metadata": {},
   "source": [
    "### GridSearch"
   ]
  },
  {
   "cell_type": "code",
   "execution_count": null,
   "metadata": {
    "collapsed": true
   },
   "outputs": [],
   "source": [
    "def gscv(name, values):\n",
    "    params = {\n",
    "        name: values\n",
    "    }\n",
    "    \n",
    "    clf = CatBoostClassifier(\n",
    "        loss_function='MultiClass', \n",
    "        eval_metric='Accuracy',\n",
    "        train_dir='train/cbc_' + name\n",
    "    )\n",
    "\n",
    "    gs = GridSearchCV(\n",
    "        clf,\n",
    "        param_grid=params, \n",
    "        n_jobs=-1,\n",
    "        verbose=1,\n",
    "        fit_params={ 'cat_features': ctrs_indexes }\n",
    "    ).fit(X, y);\n",
    "\n",
    "    return gs"
   ]
  },
  {
   "cell_type": "code",
   "execution_count": null,
   "metadata": {
    "collapsed": true
   },
   "outputs": [],
   "source": [
    "best = gscv('learning_rate', [0.05, 0.1, 0.15])"
   ]
  },
  {
   "cell_type": "code",
   "execution_count": null,
   "metadata": {
    "collapsed": true
   },
   "outputs": [],
   "source": [
    "%%slack_notify {out}\n",
    "print('Best param: ', best.best_params_)\n",
    "print('Best score: ', best.best_score_)"
   ]
  },
  {
   "cell_type": "markdown",
   "metadata": {},
   "source": [
    "### Hyperopt"
   ]
  },
  {
   "cell_type": "code",
   "execution_count": 22,
   "metadata": {
    "collapsed": true
   },
   "outputs": [],
   "source": [
    "def hyperopt_objective(params):\n",
    "    model = CatBoostClassifier(\n",
    "        l2_leaf_reg=int(params['l2_leaf_reg']),\n",
    "        learning_rate=0.1, #params['learning_rate'],\n",
    "        #ctr_description=params['ctr_description'],\n",
    "        \n",
    "        loss_function='MultiClass', \n",
    "        eval_metric='Accuracy',\n",
    "        use_best_model=True,\n",
    "        random_seed=seed,\n",
    "        train_dir='train/cbc_hyper'\n",
    "    )\n",
    "    \n",
    "    cv_data = cv(\n",
    "        model.get_params(),\n",
    "        Pool(X, y, cat_features=ctrs_indexes)\n",
    "    )\n",
    "    best_accuracy = np.max(cv_data[\"b'Accuracy'_test_avg\"])\n",
    "    \n",
    "    return 1 - best_accuracy # as hyperopt minimises"
   ]
  },
  {
   "cell_type": "code",
   "execution_count": null,
   "metadata": {
    "collapsed": true
   },
   "outputs": [],
   "source": [
    "ctr_descr = ['Borders', 'CounterMax', 'Buckets']\n",
    "\n",
    "params_space = {\n",
    "    'l2_leaf_reg': hyperopt.hp.qloguniform('l2_leaf_reg', 0, 2, 1),\n",
    "    #'learning_rate': hyperopt.hp.uniform('learning_rate', 1e-1, 5e-1),\n",
    "    #'ctr_description': hyperopt.hp.choice(\n",
    "    #    'ctr_description',\n",
    "    #    list(combinations(ctr_descr, 1)) + list(combinations(ctr_descr, 2))\n",
    "    #)\n",
    "}\n",
    "\n",
    "trials = hyperopt.Trials()\n",
    "\n",
    "best = hyperopt.fmin(\n",
    "    hyperopt_objective,\n",
    "    space=params_space,\n",
    "    algo=hyperopt.tpe.suggest,\n",
    "    max_evals=10,\n",
    "    trials=trials,\n",
    "    verbose=10\n",
    ")"
   ]
  },
  {
   "cell_type": "code",
   "execution_count": null,
   "metadata": {
    "collapsed": true
   },
   "outputs": [],
   "source": [
    "%%slack_notify {out}\n",
    "print(best)"
   ]
  },
  {
   "cell_type": "code",
   "execution_count": null,
   "metadata": {
    "collapsed": true
   },
   "outputs": [],
   "source": []
  },
  {
   "cell_type": "code",
   "execution_count": null,
   "metadata": {
    "collapsed": true
   },
   "outputs": [],
   "source": []
  },
  {
   "cell_type": "code",
   "execution_count": null,
   "metadata": {
    "collapsed": true
   },
   "outputs": [],
   "source": []
  },
  {
   "cell_type": "code",
   "execution_count": null,
   "metadata": {
    "collapsed": true
   },
   "outputs": [],
   "source": [
    "predictions = []\n",
    "\n",
    "for i in tnrange(5):\n",
    "    clf = CatBoostClassifier(\n",
    "        learning_rate=0.1,\n",
    "        loss_function='MultiClass', \n",
    "        eval_metric='Accuracy',\n",
    "        train_dir='train/cbc_'+str(i),\n",
    "        random_seed=i, \n",
    "    ).fit(X, y, cat_features=ctrs_indexes)\n",
    "    predictions.append(clf.predict(X_test))"
   ]
  },
  {
   "cell_type": "code",
   "execution_count": null,
   "metadata": {
    "collapsed": true
   },
   "outputs": [],
   "source": [
    "p = stats.mode(np.array(predictions), axis=0)[0].ravel().astype(int)\n",
    "y_pred = y_encoder.inverse_transform(p)\n",
    "ans = pd.DataFrame({'id': test_ids, 'status_group': y_pred.ravel()})\n",
    "ans.to_csv('ans.csv', index=False)"
   ]
  },
  {
   "cell_type": "code",
   "execution_count": null,
   "metadata": {
    "collapsed": true
   },
   "outputs": [],
   "source": []
  }
 ],
 "metadata": {
  "kernelspec": {
   "display_name": "Python 3",
   "language": "python",
   "name": "python3"
  },
  "language_info": {
   "codemirror_mode": {
    "name": "ipython",
    "version": 3
   },
   "file_extension": ".py",
   "mimetype": "text/x-python",
   "name": "python",
   "nbconvert_exporter": "python",
   "pygments_lexer": "ipython3",
   "version": "3.5.3"
  },
  "varInspector": {
   "cols": {
    "lenName": 16,
    "lenType": 16,
    "lenVar": 40
   },
   "kernels_config": {
    "python": {
     "delete_cmd_postfix": "",
     "delete_cmd_prefix": "del ",
     "library": "var_list.py",
     "varRefreshCmd": "print(var_dic_list())"
    },
    "r": {
     "delete_cmd_postfix": ") ",
     "delete_cmd_prefix": "rm(",
     "library": "var_list.r",
     "varRefreshCmd": "cat(var_dic_list()) "
    }
   },
   "types_to_exclude": [
    "module",
    "function",
    "builtin_function_or_method",
    "instance",
    "_Feature"
   ],
   "window_display": false
  }
 },
 "nbformat": 4,
 "nbformat_minor": 2
}
